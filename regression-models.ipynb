{
 "cells": [
  {
   "cell_type": "code",
   "execution_count": 1,
   "id": "af1233cb",
   "metadata": {
    "_cell_guid": "b1076dfc-b9ad-4769-8c92-a6c4dae69d19",
    "_uuid": "8f2839f25d086af736a60e9eeb907d3b93b6e0e5",
    "execution": {
     "iopub.execute_input": "2022-12-29T23:03:50.119357Z",
     "iopub.status.busy": "2022-12-29T23:03:50.118961Z",
     "iopub.status.idle": "2022-12-29T23:03:50.862344Z",
     "shell.execute_reply": "2022-12-29T23:03:50.861269Z"
    },
    "papermill": {
     "duration": 0.757013,
     "end_time": "2022-12-29T23:03:50.864717",
     "exception": false,
     "start_time": "2022-12-29T23:03:50.107704",
     "status": "completed"
    },
    "tags": []
   },
   "outputs": [
    {
     "name": "stdout",
     "output_type": "stream",
     "text": [
      "/kaggle/input/drive-pdfs/maroc_books_datasets.csv\n"
     ]
    }
   ],
   "source": [
    "# This Python 3 environment comes with many helpful analytics libraries installed\n",
    "# It is defined by the kaggle/python Docker image: https://github.com/kaggle/docker-python\n",
    "# For example, here's several helpful packages to load\n",
    "\n",
    "import numpy as np # linear algebra\n",
    "import pandas as pd # data processing, CSV file I/O (e.g. pd.read_csv)\n",
    "import matplotlib.pyplot as plt\n",
    "import seaborn as sns\n",
    "\n",
    "# Input data files are available in the read-only \"../input/\" directory\n",
    "# For example, running this (by clicking run or pressing Shift+Enter) will list all files under the input directory\n",
    "\n",
    "import os\n",
    "for dirname, _, filenames in os.walk('/kaggle/input'):\n",
    "    for filename in filenames:\n",
    "        print(os.path.join(dirname, filename))\n",
    "\n",
    "# You can write up to 20GB to the current directory (/kaggle/working/) that gets preserved as output when you create a version using \"Save & Run All\" \n",
    "# You can also write temporary files to /kaggle/temp/, but they won't be saved outside of the current session"
   ]
  },
  {
   "cell_type": "code",
   "execution_count": 2,
   "id": "4b411623",
   "metadata": {
    "execution": {
     "iopub.execute_input": "2022-12-29T23:03:50.886378Z",
     "iopub.status.busy": "2022-12-29T23:03:50.885579Z",
     "iopub.status.idle": "2022-12-29T23:03:50.940554Z",
     "shell.execute_reply": "2022-12-29T23:03:50.939712Z"
    },
    "papermill": {
     "duration": 0.068595,
     "end_time": "2022-12-29T23:03:50.942857",
     "exception": false,
     "start_time": "2022-12-29T23:03:50.874262",
     "status": "completed"
    },
    "tags": []
   },
   "outputs": [
    {
     "data": {
      "text/html": [
       "<div>\n",
       "<style scoped>\n",
       "    .dataframe tbody tr th:only-of-type {\n",
       "        vertical-align: middle;\n",
       "    }\n",
       "\n",
       "    .dataframe tbody tr th {\n",
       "        vertical-align: top;\n",
       "    }\n",
       "\n",
       "    .dataframe thead th {\n",
       "        text-align: right;\n",
       "    }\n",
       "</style>\n",
       "<table border=\"1\" class=\"dataframe\">\n",
       "  <thead>\n",
       "    <tr style=\"text-align: right;\">\n",
       "      <th></th>\n",
       "      <th>pages</th>\n",
       "      <th>year</th>\n",
       "      <th>size</th>\n",
       "      <th>downloads</th>\n",
       "      <th>languge</th>\n",
       "    </tr>\n",
       "  </thead>\n",
       "  <tbody>\n",
       "    <tr>\n",
       "      <th>0</th>\n",
       "      <td>453 Pages</td>\n",
       "      <td>2012</td>\n",
       "      <td>11.63 MB</td>\n",
       "      <td>3151 Downloads</td>\n",
       "      <td>French</td>\n",
       "    </tr>\n",
       "    <tr>\n",
       "      <th>1</th>\n",
       "      <td>358 Pages</td>\n",
       "      <td>2010</td>\n",
       "      <td>26.56 MB</td>\n",
       "      <td>653 Downloads</td>\n",
       "      <td>French</td>\n",
       "    </tr>\n",
       "    <tr>\n",
       "      <th>2</th>\n",
       "      <td>108 Pages</td>\n",
       "      <td>2017</td>\n",
       "      <td>857 KB</td>\n",
       "      <td>2462 Downloads</td>\n",
       "      <td>French</td>\n",
       "    </tr>\n",
       "    <tr>\n",
       "      <th>3</th>\n",
       "      <td>392 Pages</td>\n",
       "      <td>2012</td>\n",
       "      <td>2.57 MB</td>\n",
       "      <td>1013 Downloads</td>\n",
       "      <td>French</td>\n",
       "    </tr>\n",
       "    <tr>\n",
       "      <th>4</th>\n",
       "      <td>343 Pages</td>\n",
       "      <td>2014</td>\n",
       "      <td>1.44 MB</td>\n",
       "      <td>813 Downloads</td>\n",
       "      <td>French</td>\n",
       "    </tr>\n",
       "    <tr>\n",
       "      <th>...</th>\n",
       "      <td>...</td>\n",
       "      <td>...</td>\n",
       "      <td>...</td>\n",
       "      <td>...</td>\n",
       "      <td>...</td>\n",
       "    </tr>\n",
       "    <tr>\n",
       "      <th>5669</th>\n",
       "      <td>47 Pages</td>\n",
       "      <td>2014</td>\n",
       "      <td>3.89 MB</td>\n",
       "      <td>0 Downloads</td>\n",
       "      <td>French</td>\n",
       "    </tr>\n",
       "    <tr>\n",
       "      <th>5670</th>\n",
       "      <td>47 Pages</td>\n",
       "      <td>2002</td>\n",
       "      <td>190 KB</td>\n",
       "      <td>0 Downloads</td>\n",
       "      <td>French</td>\n",
       "    </tr>\n",
       "    <tr>\n",
       "      <th>5671</th>\n",
       "      <td>47 Pages</td>\n",
       "      <td>2014</td>\n",
       "      <td>812 KB</td>\n",
       "      <td>0 Downloads</td>\n",
       "      <td>French</td>\n",
       "    </tr>\n",
       "    <tr>\n",
       "      <th>5672</th>\n",
       "      <td>47 Pages</td>\n",
       "      <td>2014</td>\n",
       "      <td>642 KB</td>\n",
       "      <td>0 Downloads</td>\n",
       "      <td>French</td>\n",
       "    </tr>\n",
       "    <tr>\n",
       "      <th>5673</th>\n",
       "      <td>47 Pages</td>\n",
       "      <td>2016</td>\n",
       "      <td>10.7 MB</td>\n",
       "      <td>1 Downloads</td>\n",
       "      <td>French</td>\n",
       "    </tr>\n",
       "  </tbody>\n",
       "</table>\n",
       "<p>5674 rows × 5 columns</p>\n",
       "</div>"
      ],
      "text/plain": [
       "          pages  year      size       downloads languge\n",
       "0     453 Pages  2012  11.63 MB  3151 Downloads  French\n",
       "1     358 Pages  2010  26.56 MB   653 Downloads  French\n",
       "2     108 Pages  2017    857 KB  2462 Downloads  French\n",
       "3     392 Pages  2012   2.57 MB  1013 Downloads  French\n",
       "4     343 Pages  2014   1.44 MB   813 Downloads  French\n",
       "...         ...   ...       ...             ...     ...\n",
       "5669   47 Pages  2014   3.89 MB     0 Downloads  French\n",
       "5670   47 Pages  2002    190 KB     0 Downloads  French\n",
       "5671   47 Pages  2014    812 KB     0 Downloads  French\n",
       "5672   47 Pages  2014    642 KB     0 Downloads  French\n",
       "5673   47 Pages  2016   10.7 MB     1 Downloads  French\n",
       "\n",
       "[5674 rows x 5 columns]"
      ]
     },
     "execution_count": 2,
     "metadata": {},
     "output_type": "execute_result"
    }
   ],
   "source": [
    "books = pd.read_csv(\"/kaggle/input/drive-pdfs/maroc_books_datasets.csv\",na_values=[\"None\",np.nan])[[\"pages\",\"year\",\"size\",\"downloads\",\"languge\"]]\n",
    "books"
   ]
  },
  {
   "cell_type": "markdown",
   "id": "df3f3c60",
   "metadata": {
    "papermill": {
     "duration": 0.009006,
     "end_time": "2022-12-29T23:03:50.961508",
     "exception": false,
     "start_time": "2022-12-29T23:03:50.952502",
     "status": "completed"
    },
    "tags": []
   },
   "source": [
    "# **Cleaning DATA**"
   ]
  },
  {
   "cell_type": "code",
   "execution_count": 3,
   "id": "f502d9a7",
   "metadata": {
    "execution": {
     "iopub.execute_input": "2022-12-29T23:03:50.981821Z",
     "iopub.status.busy": "2022-12-29T23:03:50.980950Z",
     "iopub.status.idle": "2022-12-29T23:03:50.998982Z",
     "shell.execute_reply": "2022-12-29T23:03:50.998119Z"
    },
    "papermill": {
     "duration": 0.030026,
     "end_time": "2022-12-29T23:03:51.000711",
     "exception": false,
     "start_time": "2022-12-29T23:03:50.970685",
     "status": "completed"
    },
    "tags": []
   },
   "outputs": [
    {
     "data": {
      "text/html": [
       "<div>\n",
       "<style scoped>\n",
       "    .dataframe tbody tr th:only-of-type {\n",
       "        vertical-align: middle;\n",
       "    }\n",
       "\n",
       "    .dataframe tbody tr th {\n",
       "        vertical-align: top;\n",
       "    }\n",
       "\n",
       "    .dataframe thead th {\n",
       "        text-align: right;\n",
       "    }\n",
       "</style>\n",
       "<table border=\"1\" class=\"dataframe\">\n",
       "  <thead>\n",
       "    <tr style=\"text-align: right;\">\n",
       "      <th></th>\n",
       "      <th>pages</th>\n",
       "      <th>year</th>\n",
       "      <th>size</th>\n",
       "      <th>downloads</th>\n",
       "      <th>languge</th>\n",
       "    </tr>\n",
       "  </thead>\n",
       "  <tbody>\n",
       "    <tr>\n",
       "      <th>0</th>\n",
       "      <td>453 Pages</td>\n",
       "      <td>2012</td>\n",
       "      <td>11.63 MB</td>\n",
       "      <td>3151 Downloads</td>\n",
       "      <td>French</td>\n",
       "    </tr>\n",
       "    <tr>\n",
       "      <th>1</th>\n",
       "      <td>358 Pages</td>\n",
       "      <td>2010</td>\n",
       "      <td>26.56 MB</td>\n",
       "      <td>653 Downloads</td>\n",
       "      <td>French</td>\n",
       "    </tr>\n",
       "    <tr>\n",
       "      <th>2</th>\n",
       "      <td>108 Pages</td>\n",
       "      <td>2017</td>\n",
       "      <td>857 KB</td>\n",
       "      <td>2462 Downloads</td>\n",
       "      <td>French</td>\n",
       "    </tr>\n",
       "    <tr>\n",
       "      <th>3</th>\n",
       "      <td>392 Pages</td>\n",
       "      <td>2012</td>\n",
       "      <td>2.57 MB</td>\n",
       "      <td>1013 Downloads</td>\n",
       "      <td>French</td>\n",
       "    </tr>\n",
       "    <tr>\n",
       "      <th>4</th>\n",
       "      <td>343 Pages</td>\n",
       "      <td>2014</td>\n",
       "      <td>1.44 MB</td>\n",
       "      <td>813 Downloads</td>\n",
       "      <td>French</td>\n",
       "    </tr>\n",
       "    <tr>\n",
       "      <th>...</th>\n",
       "      <td>...</td>\n",
       "      <td>...</td>\n",
       "      <td>...</td>\n",
       "      <td>...</td>\n",
       "      <td>...</td>\n",
       "    </tr>\n",
       "    <tr>\n",
       "      <th>5669</th>\n",
       "      <td>47 Pages</td>\n",
       "      <td>2014</td>\n",
       "      <td>3.89 MB</td>\n",
       "      <td>0 Downloads</td>\n",
       "      <td>French</td>\n",
       "    </tr>\n",
       "    <tr>\n",
       "      <th>5670</th>\n",
       "      <td>47 Pages</td>\n",
       "      <td>2002</td>\n",
       "      <td>190 KB</td>\n",
       "      <td>0 Downloads</td>\n",
       "      <td>French</td>\n",
       "    </tr>\n",
       "    <tr>\n",
       "      <th>5671</th>\n",
       "      <td>47 Pages</td>\n",
       "      <td>2014</td>\n",
       "      <td>812 KB</td>\n",
       "      <td>0 Downloads</td>\n",
       "      <td>French</td>\n",
       "    </tr>\n",
       "    <tr>\n",
       "      <th>5672</th>\n",
       "      <td>47 Pages</td>\n",
       "      <td>2014</td>\n",
       "      <td>642 KB</td>\n",
       "      <td>0 Downloads</td>\n",
       "      <td>French</td>\n",
       "    </tr>\n",
       "    <tr>\n",
       "      <th>5673</th>\n",
       "      <td>47 Pages</td>\n",
       "      <td>2016</td>\n",
       "      <td>10.7 MB</td>\n",
       "      <td>1 Downloads</td>\n",
       "      <td>French</td>\n",
       "    </tr>\n",
       "  </tbody>\n",
       "</table>\n",
       "<p>5674 rows × 5 columns</p>\n",
       "</div>"
      ],
      "text/plain": [
       "          pages  year      size       downloads languge\n",
       "0     453 Pages  2012  11.63 MB  3151 Downloads  French\n",
       "1     358 Pages  2010  26.56 MB   653 Downloads  French\n",
       "2     108 Pages  2017    857 KB  2462 Downloads  French\n",
       "3     392 Pages  2012   2.57 MB  1013 Downloads  French\n",
       "4     343 Pages  2014   1.44 MB   813 Downloads  French\n",
       "...         ...   ...       ...             ...     ...\n",
       "5669   47 Pages  2014   3.89 MB     0 Downloads  French\n",
       "5670   47 Pages  2002    190 KB     0 Downloads  French\n",
       "5671   47 Pages  2014    812 KB     0 Downloads  French\n",
       "5672   47 Pages  2014    642 KB     0 Downloads  French\n",
       "5673   47 Pages  2016   10.7 MB     1 Downloads  French\n",
       "\n",
       "[5674 rows x 5 columns]"
      ]
     },
     "execution_count": 3,
     "metadata": {},
     "output_type": "execute_result"
    }
   ],
   "source": [
    "books.languge = books.languge.fillna(\"NONE\")\n",
    "books = books.dropna()\n",
    "books"
   ]
  },
  {
   "cell_type": "markdown",
   "id": "3d8641e3",
   "metadata": {
    "papermill": {
     "duration": 0.009149,
     "end_time": "2022-12-29T23:03:51.019246",
     "exception": false,
     "start_time": "2022-12-29T23:03:51.010097",
     "status": "completed"
    },
    "tags": []
   },
   "source": [
    "# **languges**"
   ]
  },
  {
   "cell_type": "code",
   "execution_count": 4,
   "id": "b36159a8",
   "metadata": {
    "execution": {
     "iopub.execute_input": "2022-12-29T23:03:51.039076Z",
     "iopub.status.busy": "2022-12-29T23:03:51.038782Z",
     "iopub.status.idle": "2022-12-29T23:03:51.050102Z",
     "shell.execute_reply": "2022-12-29T23:03:51.049147Z"
    },
    "papermill": {
     "duration": 0.023739,
     "end_time": "2022-12-29T23:03:51.052260",
     "exception": false,
     "start_time": "2022-12-29T23:03:51.028521",
     "status": "completed"
    },
    "tags": []
   },
   "outputs": [
    {
     "name": "stdout",
     "output_type": "stream",
     "text": [
      "French 5394\n",
      "NONE 270\n",
      "German 1\n",
      "Spanish 2\n",
      "Somali 3\n",
      "Hungarian 1\n",
      "Arabic 3\n"
     ]
    }
   ],
   "source": [
    "books.languge.unique()\n",
    "for l in books.languge.unique():\n",
    "    print(l,len(books.loc[(books.languge == l)]))"
   ]
  },
  {
   "cell_type": "markdown",
   "id": "4be013c4",
   "metadata": {
    "papermill": {
     "duration": 0.009216,
     "end_time": "2022-12-29T23:03:51.071335",
     "exception": false,
     "start_time": "2022-12-29T23:03:51.062119",
     "status": "completed"
    },
    "tags": []
   },
   "source": [
    "# **Drop srings from data**"
   ]
  },
  {
   "cell_type": "code",
   "execution_count": 5,
   "id": "b8638605",
   "metadata": {
    "execution": {
     "iopub.execute_input": "2022-12-29T23:03:51.091517Z",
     "iopub.status.busy": "2022-12-29T23:03:51.091232Z",
     "iopub.status.idle": "2022-12-29T23:03:55.506580Z",
     "shell.execute_reply": "2022-12-29T23:03:55.505785Z"
    },
    "papermill": {
     "duration": 4.427447,
     "end_time": "2022-12-29T23:03:55.508242",
     "exception": false,
     "start_time": "2022-12-29T23:03:51.080795",
     "status": "completed"
    },
    "tags": []
   },
   "outputs": [
    {
     "data": {
      "text/html": [
       "<div>\n",
       "<style scoped>\n",
       "    .dataframe tbody tr th:only-of-type {\n",
       "        vertical-align: middle;\n",
       "    }\n",
       "\n",
       "    .dataframe tbody tr th {\n",
       "        vertical-align: top;\n",
       "    }\n",
       "\n",
       "    .dataframe thead th {\n",
       "        text-align: right;\n",
       "    }\n",
       "</style>\n",
       "<table border=\"1\" class=\"dataframe\">\n",
       "  <thead>\n",
       "    <tr style=\"text-align: right;\">\n",
       "      <th></th>\n",
       "      <th>pages</th>\n",
       "      <th>year</th>\n",
       "      <th>size</th>\n",
       "      <th>downloads</th>\n",
       "      <th>languge</th>\n",
       "    </tr>\n",
       "  </thead>\n",
       "  <tbody>\n",
       "    <tr>\n",
       "      <th>0</th>\n",
       "      <td>453</td>\n",
       "      <td>2012</td>\n",
       "      <td>11630000.0</td>\n",
       "      <td>3151</td>\n",
       "      <td>0</td>\n",
       "    </tr>\n",
       "    <tr>\n",
       "      <th>1</th>\n",
       "      <td>358</td>\n",
       "      <td>2010</td>\n",
       "      <td>26560000.0</td>\n",
       "      <td>653</td>\n",
       "      <td>0</td>\n",
       "    </tr>\n",
       "    <tr>\n",
       "      <th>2</th>\n",
       "      <td>108</td>\n",
       "      <td>2017</td>\n",
       "      <td>857000.0</td>\n",
       "      <td>2462</td>\n",
       "      <td>0</td>\n",
       "    </tr>\n",
       "    <tr>\n",
       "      <th>3</th>\n",
       "      <td>392</td>\n",
       "      <td>2012</td>\n",
       "      <td>2570000.0</td>\n",
       "      <td>1013</td>\n",
       "      <td>0</td>\n",
       "    </tr>\n",
       "    <tr>\n",
       "      <th>4</th>\n",
       "      <td>343</td>\n",
       "      <td>2014</td>\n",
       "      <td>1440000.0</td>\n",
       "      <td>813</td>\n",
       "      <td>0</td>\n",
       "    </tr>\n",
       "    <tr>\n",
       "      <th>...</th>\n",
       "      <td>...</td>\n",
       "      <td>...</td>\n",
       "      <td>...</td>\n",
       "      <td>...</td>\n",
       "      <td>...</td>\n",
       "    </tr>\n",
       "    <tr>\n",
       "      <th>5669</th>\n",
       "      <td>47</td>\n",
       "      <td>2014</td>\n",
       "      <td>3890000.0</td>\n",
       "      <td>0</td>\n",
       "      <td>0</td>\n",
       "    </tr>\n",
       "    <tr>\n",
       "      <th>5670</th>\n",
       "      <td>47</td>\n",
       "      <td>2002</td>\n",
       "      <td>190000.0</td>\n",
       "      <td>0</td>\n",
       "      <td>0</td>\n",
       "    </tr>\n",
       "    <tr>\n",
       "      <th>5671</th>\n",
       "      <td>47</td>\n",
       "      <td>2014</td>\n",
       "      <td>812000.0</td>\n",
       "      <td>0</td>\n",
       "      <td>0</td>\n",
       "    </tr>\n",
       "    <tr>\n",
       "      <th>5672</th>\n",
       "      <td>47</td>\n",
       "      <td>2014</td>\n",
       "      <td>642000.0</td>\n",
       "      <td>0</td>\n",
       "      <td>0</td>\n",
       "    </tr>\n",
       "    <tr>\n",
       "      <th>5673</th>\n",
       "      <td>47</td>\n",
       "      <td>2016</td>\n",
       "      <td>10700000.0</td>\n",
       "      <td>1</td>\n",
       "      <td>0</td>\n",
       "    </tr>\n",
       "  </tbody>\n",
       "</table>\n",
       "<p>5674 rows × 5 columns</p>\n",
       "</div>"
      ],
      "text/plain": [
       "      pages  year        size  downloads  languge\n",
       "0       453  2012  11630000.0       3151        0\n",
       "1       358  2010  26560000.0        653        0\n",
       "2       108  2017    857000.0       2462        0\n",
       "3       392  2012   2570000.0       1013        0\n",
       "4       343  2014   1440000.0        813        0\n",
       "...     ...   ...         ...        ...      ...\n",
       "5669     47  2014   3890000.0          0        0\n",
       "5670     47  2002    190000.0          0        0\n",
       "5671     47  2014    812000.0          0        0\n",
       "5672     47  2014    642000.0          0        0\n",
       "5673     47  2016  10700000.0          1        0\n",
       "\n",
       "[5674 rows x 5 columns]"
      ]
     },
     "execution_count": 5,
     "metadata": {},
     "output_type": "execute_result"
    }
   ],
   "source": [
    "books.downloads = books.downloads.str[0:-10].astype(int)\n",
    "\n",
    "books.pages = books.pages.str[0:-6].astype(int)\n",
    "\n",
    "#size by byte\n",
    "def resize(x):\n",
    "    if x == \"K\":\n",
    "        \n",
    "        return 1000\n",
    "    if x == \"M\":\n",
    "        return 1000000\n",
    "    else :\n",
    "        return 0\n",
    "def trysize(k):\n",
    "    try:\n",
    "        return float(k)\n",
    "    except:\n",
    "        return 0\n",
    "books[\"size\"] = books[\"size\"].str[0:-3].map(lambda k : trysize(k)) * books[\"size\"].str[-2].map(lambda m : resize(m))\n",
    "\n",
    "#indicat the langage\n",
    "def lang(x):\n",
    "    for i in range(len(books.languge.unique())):\n",
    "        if books.languge.unique()[i] == x:\n",
    "            return i\n",
    "\n",
    "books.languge = books.languge.map(lambda m : lang(m))\n",
    "\n",
    "books"
   ]
  },
  {
   "cell_type": "code",
   "execution_count": 6,
   "id": "93ac1eed",
   "metadata": {
    "execution": {
     "iopub.execute_input": "2022-12-29T23:03:55.529902Z",
     "iopub.status.busy": "2022-12-29T23:03:55.529545Z",
     "iopub.status.idle": "2022-12-29T23:03:55.544190Z",
     "shell.execute_reply": "2022-12-29T23:03:55.543293Z"
    },
    "papermill": {
     "duration": 0.027389,
     "end_time": "2022-12-29T23:03:55.545862",
     "exception": false,
     "start_time": "2022-12-29T23:03:55.518473",
     "status": "completed"
    },
    "tags": []
   },
   "outputs": [
    {
     "name": "stdout",
     "output_type": "stream",
     "text": [
      "<class 'pandas.core.frame.DataFrame'>\n",
      "Int64Index: 5674 entries, 0 to 5673\n",
      "Data columns (total 5 columns):\n",
      " #   Column     Non-Null Count  Dtype  \n",
      "---  ------     --------------  -----  \n",
      " 0   pages      5674 non-null   int64  \n",
      " 1   year       5674 non-null   int64  \n",
      " 2   size       5674 non-null   float64\n",
      " 3   downloads  5674 non-null   int64  \n",
      " 4   languge    5674 non-null   int64  \n",
      "dtypes: float64(1), int64(4)\n",
      "memory usage: 266.0 KB\n"
     ]
    }
   ],
   "source": [
    "books.info()"
   ]
  },
  {
   "cell_type": "code",
   "execution_count": 7,
   "id": "eb40e232",
   "metadata": {
    "execution": {
     "iopub.execute_input": "2022-12-29T23:03:55.566888Z",
     "iopub.status.busy": "2022-12-29T23:03:55.566191Z",
     "iopub.status.idle": "2022-12-29T23:03:55.589346Z",
     "shell.execute_reply": "2022-12-29T23:03:55.588571Z"
    },
    "papermill": {
     "duration": 0.035268,
     "end_time": "2022-12-29T23:03:55.591011",
     "exception": false,
     "start_time": "2022-12-29T23:03:55.555743",
     "status": "completed"
    },
    "tags": []
   },
   "outputs": [
    {
     "data": {
      "text/html": [
       "<div>\n",
       "<style scoped>\n",
       "    .dataframe tbody tr th:only-of-type {\n",
       "        vertical-align: middle;\n",
       "    }\n",
       "\n",
       "    .dataframe tbody tr th {\n",
       "        vertical-align: top;\n",
       "    }\n",
       "\n",
       "    .dataframe thead th {\n",
       "        text-align: right;\n",
       "    }\n",
       "</style>\n",
       "<table border=\"1\" class=\"dataframe\">\n",
       "  <thead>\n",
       "    <tr style=\"text-align: right;\">\n",
       "      <th></th>\n",
       "      <th>pages</th>\n",
       "      <th>year</th>\n",
       "      <th>size</th>\n",
       "      <th>downloads</th>\n",
       "      <th>languge</th>\n",
       "    </tr>\n",
       "  </thead>\n",
       "  <tbody>\n",
       "    <tr>\n",
       "      <th>count</th>\n",
       "      <td>5674.000000</td>\n",
       "      <td>5674.000000</td>\n",
       "      <td>5.674000e+03</td>\n",
       "      <td>5674.000000</td>\n",
       "      <td>5674.000000</td>\n",
       "    </tr>\n",
       "    <tr>\n",
       "      <th>mean</th>\n",
       "      <td>91.596405</td>\n",
       "      <td>2011.964928</td>\n",
       "      <td>3.674413e+06</td>\n",
       "      <td>24.819351</td>\n",
       "      <td>0.055164</td>\n",
       "    </tr>\n",
       "    <tr>\n",
       "      <th>std</th>\n",
       "      <td>124.341737</td>\n",
       "      <td>6.753393</td>\n",
       "      <td>6.216598e+06</td>\n",
       "      <td>366.485545</td>\n",
       "      <td>0.283432</td>\n",
       "    </tr>\n",
       "    <tr>\n",
       "      <th>min</th>\n",
       "      <td>13.000000</td>\n",
       "      <td>1610.000000</td>\n",
       "      <td>0.000000e+00</td>\n",
       "      <td>0.000000</td>\n",
       "      <td>0.000000</td>\n",
       "    </tr>\n",
       "    <tr>\n",
       "      <th>25%</th>\n",
       "      <td>47.000000</td>\n",
       "      <td>2009.000000</td>\n",
       "      <td>6.420000e+05</td>\n",
       "      <td>0.000000</td>\n",
       "      <td>0.000000</td>\n",
       "    </tr>\n",
       "    <tr>\n",
       "      <th>50%</th>\n",
       "      <td>47.000000</td>\n",
       "      <td>2014.000000</td>\n",
       "      <td>1.780000e+06</td>\n",
       "      <td>1.000000</td>\n",
       "      <td>0.000000</td>\n",
       "    </tr>\n",
       "    <tr>\n",
       "      <th>75%</th>\n",
       "      <td>65.000000</td>\n",
       "      <td>2015.000000</td>\n",
       "      <td>3.720000e+06</td>\n",
       "      <td>5.000000</td>\n",
       "      <td>0.000000</td>\n",
       "    </tr>\n",
       "    <tr>\n",
       "      <th>max</th>\n",
       "      <td>4287.000000</td>\n",
       "      <td>2018.000000</td>\n",
       "      <td>1.347500e+08</td>\n",
       "      <td>26633.000000</td>\n",
       "      <td>6.000000</td>\n",
       "    </tr>\n",
       "  </tbody>\n",
       "</table>\n",
       "</div>"
      ],
      "text/plain": [
       "             pages         year          size     downloads      languge\n",
       "count  5674.000000  5674.000000  5.674000e+03   5674.000000  5674.000000\n",
       "mean     91.596405  2011.964928  3.674413e+06     24.819351     0.055164\n",
       "std     124.341737     6.753393  6.216598e+06    366.485545     0.283432\n",
       "min      13.000000  1610.000000  0.000000e+00      0.000000     0.000000\n",
       "25%      47.000000  2009.000000  6.420000e+05      0.000000     0.000000\n",
       "50%      47.000000  2014.000000  1.780000e+06      1.000000     0.000000\n",
       "75%      65.000000  2015.000000  3.720000e+06      5.000000     0.000000\n",
       "max    4287.000000  2018.000000  1.347500e+08  26633.000000     6.000000"
      ]
     },
     "execution_count": 7,
     "metadata": {},
     "output_type": "execute_result"
    }
   ],
   "source": [
    "books.describe()"
   ]
  },
  {
   "cell_type": "markdown",
   "id": "28828945",
   "metadata": {
    "papermill": {
     "duration": 0.009969,
     "end_time": "2022-12-29T23:03:55.611239",
     "exception": false,
     "start_time": "2022-12-29T23:03:55.601270",
     "status": "completed"
    },
    "tags": []
   },
   "source": [
    "# **correlation**"
   ]
  },
  {
   "cell_type": "code",
   "execution_count": 8,
   "id": "38097f30",
   "metadata": {
    "execution": {
     "iopub.execute_input": "2022-12-29T23:03:55.632489Z",
     "iopub.status.busy": "2022-12-29T23:03:55.632178Z",
     "iopub.status.idle": "2022-12-29T23:03:55.906025Z",
     "shell.execute_reply": "2022-12-29T23:03:55.905325Z"
    },
    "papermill": {
     "duration": 0.286521,
     "end_time": "2022-12-29T23:03:55.907722",
     "exception": false,
     "start_time": "2022-12-29T23:03:55.621201",
     "status": "completed"
    },
    "tags": []
   },
   "outputs": [
    {
     "data": {
      "text/plain": [
       "<AxesSubplot:>"
      ]
     },
     "execution_count": 8,
     "metadata": {},
     "output_type": "execute_result"
    },
    {
     "data": {
      "image/png": "[encoded data removed]",
      "text/plain": [
       "<Figure size 1440x576 with 2 Axes>"
      ]
     },
     "metadata": {
      "needs_background": "light"
     },
     "output_type": "display_data"
    }
   ],
   "source": [
    "plt.figure(figsize=(20,8))\n",
    "sns.heatmap(data=books.corr(), annot=True)"
   ]
  },
  {
   "cell_type": "markdown",
   "id": "6aa66db7",
   "metadata": {
    "papermill": {
     "duration": 0.010118,
     "end_time": "2022-12-29T23:03:55.928386",
     "exception": false,
     "start_time": "2022-12-29T23:03:55.918268",
     "status": "completed"
    },
    "tags": []
   },
   "source": [
    "size and pages have relationshep,\n",
    "we can drop size"
   ]
  },
  {
   "cell_type": "markdown",
   "id": "7bf6c025",
   "metadata": {
    "papermill": {
     "duration": 0.010071,
     "end_time": "2022-12-29T23:03:55.948677",
     "exception": false,
     "start_time": "2022-12-29T23:03:55.938606",
     "status": "completed"
    },
    "tags": []
   },
   "source": [
    "# **setting of training data and normalization**"
   ]
  },
  {
   "cell_type": "code",
   "execution_count": 9,
   "id": "d22209b7",
   "metadata": {
    "execution": {
     "iopub.execute_input": "2022-12-29T23:03:55.970289Z",
     "iopub.status.busy": "2022-12-29T23:03:55.970023Z",
     "iopub.status.idle": "2022-12-29T23:03:55.985067Z",
     "shell.execute_reply": "2022-12-29T23:03:55.984371Z"
    },
    "papermill": {
     "duration": 0.027752,
     "end_time": "2022-12-29T23:03:55.986641",
     "exception": false,
     "start_time": "2022-12-29T23:03:55.958889",
     "status": "completed"
    },
    "tags": []
   },
   "outputs": [
    {
     "data": {
      "text/html": [
       "<div>\n",
       "<style scoped>\n",
       "    .dataframe tbody tr th:only-of-type {\n",
       "        vertical-align: middle;\n",
       "    }\n",
       "\n",
       "    .dataframe tbody tr th {\n",
       "        vertical-align: top;\n",
       "    }\n",
       "\n",
       "    .dataframe thead th {\n",
       "        text-align: right;\n",
       "    }\n",
       "</style>\n",
       "<table border=\"1\" class=\"dataframe\">\n",
       "  <thead>\n",
       "    <tr style=\"text-align: right;\">\n",
       "      <th></th>\n",
       "      <th>pages</th>\n",
       "      <th>year</th>\n",
       "      <th>languge</th>\n",
       "    </tr>\n",
       "  </thead>\n",
       "  <tbody>\n",
       "    <tr>\n",
       "      <th>0</th>\n",
       "      <td>0.102948</td>\n",
       "      <td>0.985294</td>\n",
       "      <td>0.0</td>\n",
       "    </tr>\n",
       "    <tr>\n",
       "      <th>1</th>\n",
       "      <td>0.080721</td>\n",
       "      <td>0.980392</td>\n",
       "      <td>0.0</td>\n",
       "    </tr>\n",
       "    <tr>\n",
       "      <th>2</th>\n",
       "      <td>0.022227</td>\n",
       "      <td>0.997549</td>\n",
       "      <td>0.0</td>\n",
       "    </tr>\n",
       "    <tr>\n",
       "      <th>3</th>\n",
       "      <td>0.088676</td>\n",
       "      <td>0.985294</td>\n",
       "      <td>0.0</td>\n",
       "    </tr>\n",
       "    <tr>\n",
       "      <th>4</th>\n",
       "      <td>0.077211</td>\n",
       "      <td>0.990196</td>\n",
       "      <td>0.0</td>\n",
       "    </tr>\n",
       "    <tr>\n",
       "      <th>...</th>\n",
       "      <td>...</td>\n",
       "      <td>...</td>\n",
       "      <td>...</td>\n",
       "    </tr>\n",
       "    <tr>\n",
       "      <th>5669</th>\n",
       "      <td>0.007955</td>\n",
       "      <td>0.990196</td>\n",
       "      <td>0.0</td>\n",
       "    </tr>\n",
       "    <tr>\n",
       "      <th>5670</th>\n",
       "      <td>0.007955</td>\n",
       "      <td>0.960784</td>\n",
       "      <td>0.0</td>\n",
       "    </tr>\n",
       "    <tr>\n",
       "      <th>5671</th>\n",
       "      <td>0.007955</td>\n",
       "      <td>0.990196</td>\n",
       "      <td>0.0</td>\n",
       "    </tr>\n",
       "    <tr>\n",
       "      <th>5672</th>\n",
       "      <td>0.007955</td>\n",
       "      <td>0.990196</td>\n",
       "      <td>0.0</td>\n",
       "    </tr>\n",
       "    <tr>\n",
       "      <th>5673</th>\n",
       "      <td>0.007955</td>\n",
       "      <td>0.995098</td>\n",
       "      <td>0.0</td>\n",
       "    </tr>\n",
       "  </tbody>\n",
       "</table>\n",
       "<p>5674 rows × 3 columns</p>\n",
       "</div>"
      ],
      "text/plain": [
       "         pages      year  languge\n",
       "0     0.102948  0.985294      0.0\n",
       "1     0.080721  0.980392      0.0\n",
       "2     0.022227  0.997549      0.0\n",
       "3     0.088676  0.985294      0.0\n",
       "4     0.077211  0.990196      0.0\n",
       "...        ...       ...      ...\n",
       "5669  0.007955  0.990196      0.0\n",
       "5670  0.007955  0.960784      0.0\n",
       "5671  0.007955  0.990196      0.0\n",
       "5672  0.007955  0.990196      0.0\n",
       "5673  0.007955  0.995098      0.0\n",
       "\n",
       "[5674 rows x 3 columns]"
      ]
     },
     "execution_count": 9,
     "metadata": {},
     "output_type": "execute_result"
    }
   ],
   "source": [
    "# Create target object and call it y\n",
    "y = books.downloads\n",
    "# Create X\n",
    "features = [\"pages\",\"year\",\"languge\"]\n",
    "X = books[features]\n",
    "X = X.apply(lambda x: (x - x.min()) / (x.max() - x.min()))\n",
    "X"
   ]
  },
  {
   "cell_type": "markdown",
   "id": "a301e9fa",
   "metadata": {
    "papermill": {
     "duration": 0.010198,
     "end_time": "2022-12-29T23:03:56.007321",
     "exception": false,
     "start_time": "2022-12-29T23:03:55.997123",
     "status": "completed"
    },
    "tags": []
   },
   "source": [
    "# **Random Forest Regressor**"
   ]
  },
  {
   "cell_type": "code",
   "execution_count": 10,
   "id": "fc3f0dca",
   "metadata": {
    "execution": {
     "iopub.execute_input": "2022-12-29T23:03:56.029249Z",
     "iopub.status.busy": "2022-12-29T23:03:56.029001Z",
     "iopub.status.idle": "2022-12-29T23:03:56.301504Z",
     "shell.execute_reply": "2022-12-29T23:03:56.300697Z"
    },
    "papermill": {
     "duration": 0.285961,
     "end_time": "2022-12-29T23:03:56.303664",
     "exception": false,
     "start_time": "2022-12-29T23:03:56.017703",
     "status": "completed"
    },
    "tags": []
   },
   "outputs": [],
   "source": [
    "from sklearn.metrics import mean_absolute_error\n",
    "from sklearn.model_selection import train_test_split\n",
    "from sklearn.ensemble import RandomForestRegressor"
   ]
  },
  {
   "cell_type": "code",
   "execution_count": 11,
   "id": "0a6036d0",
   "metadata": {
    "execution": {
     "iopub.execute_input": "2022-12-29T23:03:56.325970Z",
     "iopub.status.busy": "2022-12-29T23:03:56.325683Z",
     "iopub.status.idle": "2022-12-29T23:03:56.684742Z",
     "shell.execute_reply": "2022-12-29T23:03:56.683875Z"
    },
    "papermill": {
     "duration": 0.372161,
     "end_time": "2022-12-29T23:03:56.686533",
     "exception": false,
     "start_time": "2022-12-29T23:03:56.314372",
     "status": "completed"
    },
    "tags": []
   },
   "outputs": [
    {
     "name": "stdout",
     "output_type": "stream",
     "text": [
      "Validation MAE: 13\n",
      "Score :  0.8472855385198642\n"
     ]
    }
   ],
   "source": [
    "train_X, val_X, train_y, val_y = train_test_split(X, y, random_state=1)\n",
    "train_X,train_y = X,y\n",
    "\n",
    "# Specify Model\n",
    "iowa_model = RandomForestRegressor(random_state = 1)\n",
    "\n",
    "# Fit Model\n",
    "iowa_model.fit(X, y)\n",
    "\n",
    "# Make validation predictions and calculate mean absolute error\n",
    "val_predictions = iowa_model.predict(val_X)\n",
    "val_mae = mean_absolute_error(val_predictions, val_y)\n",
    "print(\"Validation MAE: {:,.0f}\".format(val_mae))\n",
    "rfr = iowa_model.score(val_X,val_y)\n",
    "print(\"Score : \",rfr)"
   ]
  },
  {
   "cell_type": "code",
   "execution_count": 12,
   "id": "9b8ca723",
   "metadata": {
    "execution": {
     "iopub.execute_input": "2022-12-29T23:03:56.709507Z",
     "iopub.status.busy": "2022-12-29T23:03:56.709204Z",
     "iopub.status.idle": "2022-12-29T23:03:56.761419Z",
     "shell.execute_reply": "2022-12-29T23:03:56.760471Z"
    },
    "papermill": {
     "duration": 0.065577,
     "end_time": "2022-12-29T23:03:56.763248",
     "exception": false,
     "start_time": "2022-12-29T23:03:56.697671",
     "status": "completed"
    },
    "tags": []
   },
   "outputs": [
    {
     "data": {
      "text/html": [
       "<div>\n",
       "<style scoped>\n",
       "    .dataframe tbody tr th:only-of-type {\n",
       "        vertical-align: middle;\n",
       "    }\n",
       "\n",
       "    .dataframe tbody tr th {\n",
       "        vertical-align: top;\n",
       "    }\n",
       "\n",
       "    .dataframe thead th {\n",
       "        text-align: right;\n",
       "    }\n",
       "</style>\n",
       "<table border=\"1\" class=\"dataframe\">\n",
       "  <thead>\n",
       "    <tr style=\"text-align: right;\">\n",
       "      <th></th>\n",
       "      <th>downloads</th>\n",
       "      <th>prid</th>\n",
       "    </tr>\n",
       "  </thead>\n",
       "  <tbody>\n",
       "    <tr>\n",
       "      <th>3321</th>\n",
       "      <td>18</td>\n",
       "      <td>18</td>\n",
       "    </tr>\n",
       "    <tr>\n",
       "      <th>116</th>\n",
       "      <td>34</td>\n",
       "      <td>22</td>\n",
       "    </tr>\n",
       "    <tr>\n",
       "      <th>4341</th>\n",
       "      <td>0</td>\n",
       "      <td>1</td>\n",
       "    </tr>\n",
       "    <tr>\n",
       "      <th>582</th>\n",
       "      <td>2</td>\n",
       "      <td>6</td>\n",
       "    </tr>\n",
       "    <tr>\n",
       "      <th>1714</th>\n",
       "      <td>0</td>\n",
       "      <td>1</td>\n",
       "    </tr>\n",
       "    <tr>\n",
       "      <th>...</th>\n",
       "      <td>...</td>\n",
       "      <td>...</td>\n",
       "    </tr>\n",
       "    <tr>\n",
       "      <th>1697</th>\n",
       "      <td>1</td>\n",
       "      <td>1</td>\n",
       "    </tr>\n",
       "    <tr>\n",
       "      <th>2275</th>\n",
       "      <td>4</td>\n",
       "      <td>2</td>\n",
       "    </tr>\n",
       "    <tr>\n",
       "      <th>553</th>\n",
       "      <td>6</td>\n",
       "      <td>6</td>\n",
       "    </tr>\n",
       "    <tr>\n",
       "      <th>4595</th>\n",
       "      <td>2</td>\n",
       "      <td>1</td>\n",
       "    </tr>\n",
       "    <tr>\n",
       "      <th>2637</th>\n",
       "      <td>18</td>\n",
       "      <td>18</td>\n",
       "    </tr>\n",
       "  </tbody>\n",
       "</table>\n",
       "<p>1419 rows × 2 columns</p>\n",
       "</div>"
      ],
      "text/plain": [
       "      downloads  prid\n",
       "3321         18    18\n",
       "116          34    22\n",
       "4341          0     1\n",
       "582           2     6\n",
       "1714          0     1\n",
       "...         ...   ...\n",
       "1697          1     1\n",
       "2275          4     2\n",
       "553           6     6\n",
       "4595          2     1\n",
       "2637         18    18\n",
       "\n",
       "[1419 rows x 2 columns]"
      ]
     },
     "execution_count": 12,
     "metadata": {},
     "output_type": "execute_result"
    }
   ],
   "source": [
    "books[\"prid\"] = iowa_model.predict(X).astype(int)\n",
    "df = pd.merge(val_y,books.prid, right_index = True,\n",
    "               left_index = True)\n",
    "df"
   ]
  },
  {
   "cell_type": "markdown",
   "id": "6508274d",
   "metadata": {
    "papermill": {
     "duration": 0.01065,
     "end_time": "2022-12-29T23:03:56.784988",
     "exception": false,
     "start_time": "2022-12-29T23:03:56.774338",
     "status": "completed"
    },
    "tags": []
   },
   "source": [
    "# **Visualisation the results**"
   ]
  },
  {
   "cell_type": "code",
   "execution_count": 13,
   "id": "54630e5e",
   "metadata": {
    "execution": {
     "iopub.execute_input": "2022-12-29T23:03:56.808104Z",
     "iopub.status.busy": "2022-12-29T23:03:56.807798Z",
     "iopub.status.idle": "2022-12-29T23:03:57.051632Z",
     "shell.execute_reply": "2022-12-29T23:03:57.050786Z"
    },
    "papermill": {
     "duration": 0.257674,
     "end_time": "2022-12-29T23:03:57.053450",
     "exception": false,
     "start_time": "2022-12-29T23:03:56.795776",
     "status": "completed"
    },
    "tags": []
   },
   "outputs": [
    {
     "data": {
      "text/plain": [
       "<AxesSubplot:>"
      ]
     },
     "execution_count": 13,
     "metadata": {},
     "output_type": "execute_result"
    },
    {
     "data": {
      "image/png": "[encoded data removed]",
      "text/plain": [
       "<Figure size 432x288 with 1 Axes>"
      ]
     },
     "metadata": {
      "needs_background": "light"
     },
     "output_type": "display_data"
    }
   ],
   "source": [
    "sns.lineplot(data=df)"
   ]
  },
  {
   "cell_type": "code",
   "execution_count": 14,
   "id": "155e0a05",
   "metadata": {
    "execution": {
     "iopub.execute_input": "2022-12-29T23:03:57.077554Z",
     "iopub.status.busy": "2022-12-29T23:03:57.076817Z",
     "iopub.status.idle": "2022-12-29T23:03:57.247718Z",
     "shell.execute_reply": "2022-12-29T23:03:57.247087Z"
    },
    "papermill": {
     "duration": 0.184377,
     "end_time": "2022-12-29T23:03:57.249328",
     "exception": false,
     "start_time": "2022-12-29T23:03:57.064951",
     "status": "completed"
    },
    "tags": []
   },
   "outputs": [
    {
     "data": {
      "text/plain": [
       "<AxesSubplot:ylabel='Density'>"
      ]
     },
     "execution_count": 14,
     "metadata": {},
     "output_type": "execute_result"
    },
    {
     "data": {
      "image/png": "[encoded data removed]",
      "text/plain": [
       "<Figure size 432x288 with 1 Axes>"
      ]
     },
     "metadata": {
      "needs_background": "light"
     },
     "output_type": "display_data"
    }
   ],
   "source": [
    "sns.kdeplot(data=df, shade=False)"
   ]
  },
  {
   "cell_type": "code",
   "execution_count": 15,
   "id": "3899424e",
   "metadata": {
    "execution": {
     "iopub.execute_input": "2022-12-29T23:03:57.273024Z",
     "iopub.status.busy": "2022-12-29T23:03:57.272773Z",
     "iopub.status.idle": "2022-12-29T23:03:57.569704Z",
     "shell.execute_reply": "2022-12-29T23:03:57.569004Z"
    },
    "papermill": {
     "duration": 0.310665,
     "end_time": "2022-12-29T23:03:57.571483",
     "exception": false,
     "start_time": "2022-12-29T23:03:57.260818",
     "status": "completed"
    },
    "tags": []
   },
   "outputs": [
    {
     "data": {
      "text/plain": [
       "<AxesSubplot:xlabel='downloads', ylabel='prid'>"
      ]
     },
     "execution_count": 15,
     "metadata": {},
     "output_type": "execute_result"
    },
    {
     "data": {
      "image/png": "[encoded data removed]",
      "text/plain": [
       "<Figure size 432x288 with 1 Axes>"
      ]
     },
     "metadata": {
      "needs_background": "light"
     },
     "output_type": "display_data"
    }
   ],
   "source": [
    "k = [x for x in range(len(books))]\n",
    "sns.regplot(x=df['downloads'], y=df['prid'])"
   ]
  },
  {
   "cell_type": "markdown",
   "id": "bde512b2",
   "metadata": {
    "papermill": {
     "duration": 0.011826,
     "end_time": "2022-12-29T23:03:57.595649",
     "exception": false,
     "start_time": "2022-12-29T23:03:57.583823",
     "status": "completed"
    },
    "tags": []
   },
   "source": [
    "# **XGBoost**"
   ]
  },
  {
   "cell_type": "code",
   "execution_count": 16,
   "id": "cc979a36",
   "metadata": {
    "execution": {
     "iopub.execute_input": "2022-12-29T23:03:57.620430Z",
     "iopub.status.busy": "2022-12-29T23:03:57.619925Z",
     "iopub.status.idle": "2022-12-29T23:03:57.944284Z",
     "shell.execute_reply": "2022-12-29T23:03:57.943511Z"
    },
    "papermill": {
     "duration": 0.338329,
     "end_time": "2022-12-29T23:03:57.945983",
     "exception": false,
     "start_time": "2022-12-29T23:03:57.607654",
     "status": "completed"
    },
    "tags": []
   },
   "outputs": [
    {
     "name": "stdout",
     "output_type": "stream",
     "text": [
      "Validation MAE: 3\n",
      "Score :  0.9994739035418877\n"
     ]
    }
   ],
   "source": [
    "import xgboost as xgb\n",
    "from xgboost.sklearn import XGBRegressor\n",
    "\n",
    "# Create an XGBoost regressor\n",
    "reg = XGBRegressor()\n",
    "\n",
    "# Fit the model to the training data\n",
    "train_X, train_y = X,y\n",
    "reg.fit(train_X, train_y)\n",
    "\n",
    "# Make predictions on the test data\n",
    "y_pred = reg.predict(val_X)\n",
    "val_mae = mean_absolute_error(y_pred, val_y)\n",
    "print(\"Validation MAE: {:,.0f}\".format(val_mae))\n",
    "xg = reg.score(val_X,val_y)\n",
    "print(\"Score : \",xg)"
   ]
  },
  {
   "cell_type": "code",
   "execution_count": 17,
   "id": "cd7f8368",
   "metadata": {
    "execution": {
     "iopub.execute_input": "2022-12-29T23:03:57.972160Z",
     "iopub.status.busy": "2022-12-29T23:03:57.971409Z",
     "iopub.status.idle": "2022-12-29T23:03:57.983343Z",
     "shell.execute_reply": "2022-12-29T23:03:57.982525Z"
    },
    "papermill": {
     "duration": 0.026728,
     "end_time": "2022-12-29T23:03:57.985095",
     "exception": false,
     "start_time": "2022-12-29T23:03:57.958367",
     "status": "completed"
    },
    "tags": []
   },
   "outputs": [
    {
     "data": {
      "text/html": [
       "<div>\n",
       "<style scoped>\n",
       "    .dataframe tbody tr th:only-of-type {\n",
       "        vertical-align: middle;\n",
       "    }\n",
       "\n",
       "    .dataframe tbody tr th {\n",
       "        vertical-align: top;\n",
       "    }\n",
       "\n",
       "    .dataframe thead th {\n",
       "        text-align: right;\n",
       "    }\n",
       "</style>\n",
       "<table border=\"1\" class=\"dataframe\">\n",
       "  <thead>\n",
       "    <tr style=\"text-align: right;\">\n",
       "      <th></th>\n",
       "      <th>0_x</th>\n",
       "      <th>0_y</th>\n",
       "    </tr>\n",
       "  </thead>\n",
       "  <tbody>\n",
       "    <tr>\n",
       "      <th>0</th>\n",
       "      <td>18</td>\n",
       "      <td>18.008884</td>\n",
       "    </tr>\n",
       "    <tr>\n",
       "      <th>1</th>\n",
       "      <td>34</td>\n",
       "      <td>16.524496</td>\n",
       "    </tr>\n",
       "    <tr>\n",
       "      <th>2</th>\n",
       "      <td>0</td>\n",
       "      <td>1.340778</td>\n",
       "    </tr>\n",
       "    <tr>\n",
       "      <th>3</th>\n",
       "      <td>2</td>\n",
       "      <td>5.984092</td>\n",
       "    </tr>\n",
       "    <tr>\n",
       "      <th>4</th>\n",
       "      <td>0</td>\n",
       "      <td>1.234259</td>\n",
       "    </tr>\n",
       "    <tr>\n",
       "      <th>...</th>\n",
       "      <td>...</td>\n",
       "      <td>...</td>\n",
       "    </tr>\n",
       "    <tr>\n",
       "      <th>1414</th>\n",
       "      <td>1</td>\n",
       "      <td>0.789535</td>\n",
       "    </tr>\n",
       "    <tr>\n",
       "      <th>1415</th>\n",
       "      <td>4</td>\n",
       "      <td>2.447328</td>\n",
       "    </tr>\n",
       "    <tr>\n",
       "      <th>1416</th>\n",
       "      <td>6</td>\n",
       "      <td>12.894814</td>\n",
       "    </tr>\n",
       "    <tr>\n",
       "      <th>1417</th>\n",
       "      <td>2</td>\n",
       "      <td>1.340778</td>\n",
       "    </tr>\n",
       "    <tr>\n",
       "      <th>1418</th>\n",
       "      <td>18</td>\n",
       "      <td>18.008884</td>\n",
       "    </tr>\n",
       "  </tbody>\n",
       "</table>\n",
       "<p>1419 rows × 2 columns</p>\n",
       "</div>"
      ],
      "text/plain": [
       "      0_x        0_y\n",
       "0      18  18.008884\n",
       "1      34  16.524496\n",
       "2       0   1.340778\n",
       "3       2   5.984092\n",
       "4       0   1.234259\n",
       "...   ...        ...\n",
       "1414    1   0.789535\n",
       "1415    4   2.447328\n",
       "1416    6  12.894814\n",
       "1417    2   1.340778\n",
       "1418   18  18.008884\n",
       "\n",
       "[1419 rows x 2 columns]"
      ]
     },
     "execution_count": 17,
     "metadata": {},
     "output_type": "execute_result"
    }
   ],
   "source": [
    "df = pd.merge(pd.DataFrame(np.array(val_y)),pd.DataFrame(np.array(y_pred)), right_index = True,\n",
    "               left_index = True)\n",
    "df"
   ]
  },
  {
   "cell_type": "code",
   "execution_count": 18,
   "id": "964d4a51",
   "metadata": {
    "execution": {
     "iopub.execute_input": "2022-12-29T23:03:58.011369Z",
     "iopub.status.busy": "2022-12-29T23:03:58.010706Z",
     "iopub.status.idle": "2022-12-29T23:03:58.278932Z",
     "shell.execute_reply": "2022-12-29T23:03:58.278246Z"
    },
    "papermill": {
     "duration": 0.283294,
     "end_time": "2022-12-29T23:03:58.280643",
     "exception": false,
     "start_time": "2022-12-29T23:03:57.997349",
     "status": "completed"
    },
    "tags": []
   },
   "outputs": [
    {
     "data": {
      "text/plain": [
       "<AxesSubplot:>"
      ]
     },
     "execution_count": 18,
     "metadata": {},
     "output_type": "execute_result"
    },
    {
     "data": {
      "image/png": "[encoded data removed]",
      "text/plain": [
       "<Figure size 432x288 with 1 Axes>"
      ]
     },
     "metadata": {
      "needs_background": "light"
     },
     "output_type": "display_data"
    }
   ],
   "source": [
    "sns.lineplot(data=df)"
   ]
  },
  {
   "cell_type": "code",
   "execution_count": 19,
   "id": "725fdbb0",
   "metadata": {
    "execution": {
     "iopub.execute_input": "2022-12-29T23:03:58.308535Z",
     "iopub.status.busy": "2022-12-29T23:03:58.307530Z",
     "iopub.status.idle": "2022-12-29T23:03:58.471283Z",
     "shell.execute_reply": "2022-12-29T23:03:58.470644Z"
    },
    "papermill": {
     "duration": 0.179715,
     "end_time": "2022-12-29T23:03:58.473023",
     "exception": false,
     "start_time": "2022-12-29T23:03:58.293308",
     "status": "completed"
    },
    "tags": []
   },
   "outputs": [
    {
     "data": {
      "text/plain": [
       "<AxesSubplot:ylabel='Density'>"
      ]
     },
     "execution_count": 19,
     "metadata": {},
     "output_type": "execute_result"
    },
    {
     "data": {
      "image/png": "[encoded data removed]",
      "text/plain": [
       "<Figure size 432x288 with 1 Axes>"
      ]
     },
     "metadata": {
      "needs_background": "light"
     },
     "output_type": "display_data"
    }
   ],
   "source": [
    "sns.kdeplot(data=df, shade=False)"
   ]
  },
  {
   "cell_type": "code",
   "execution_count": 20,
   "id": "62c18e6f",
   "metadata": {
    "execution": {
     "iopub.execute_input": "2022-12-29T23:03:58.500148Z",
     "iopub.status.busy": "2022-12-29T23:03:58.499792Z",
     "iopub.status.idle": "2022-12-29T23:03:58.776898Z",
     "shell.execute_reply": "2022-12-29T23:03:58.776274Z"
    },
    "papermill": {
     "duration": 0.292774,
     "end_time": "2022-12-29T23:03:58.778754",
     "exception": false,
     "start_time": "2022-12-29T23:03:58.485980",
     "status": "completed"
    },
    "tags": []
   },
   "outputs": [
    {
     "data": {
      "text/plain": [
       "<AxesSubplot:xlabel='0_x', ylabel='0_y'>"
      ]
     },
     "execution_count": 20,
     "metadata": {},
     "output_type": "execute_result"
    },
    {
     "data": {
      "image/png": "[encoded data removed]",
      "text/plain": [
       "<Figure size 432x288 with 1 Axes>"
      ]
     },
     "metadata": {
      "needs_background": "light"
     },
     "output_type": "display_data"
    }
   ],
   "source": [
    "k = [x for x in range(len(df))]\n",
    "sns.regplot(x=df['0_x'], y=df['0_y'])"
   ]
  },
  {
   "cell_type": "markdown",
   "id": "11cbad93",
   "metadata": {
    "papermill": {
     "duration": 0.012852,
     "end_time": "2022-12-29T23:03:58.804862",
     "exception": false,
     "start_time": "2022-12-29T23:03:58.792010",
     "status": "completed"
    },
    "tags": []
   },
   "source": [
    "# **<B>Linear Regression</B>**"
   ]
  },
  {
   "cell_type": "code",
   "execution_count": 21,
   "id": "fc4baa5a",
   "metadata": {
    "execution": {
     "iopub.execute_input": "2022-12-29T23:03:58.833300Z",
     "iopub.status.busy": "2022-12-29T23:03:58.832801Z",
     "iopub.status.idle": "2022-12-29T23:03:58.850698Z",
     "shell.execute_reply": "2022-12-29T23:03:58.849829Z"
    },
    "papermill": {
     "duration": 0.033673,
     "end_time": "2022-12-29T23:03:58.852391",
     "exception": false,
     "start_time": "2022-12-29T23:03:58.818718",
     "status": "completed"
    },
    "tags": []
   },
   "outputs": [
    {
     "name": "stdout",
     "output_type": "stream",
     "text": [
      "Validation MAE: 41\n",
      "Score :  0.004833754611991425\n"
     ]
    }
   ],
   "source": [
    "from sklearn.linear_model import LinearRegression\n",
    "\n",
    "model = LinearRegression()\n",
    "\n",
    "# Fit the model to the training data\n",
    "train_X, train_y = X,y\n",
    "model.fit(train_X, train_y)\n",
    "\n",
    "# Make predictions on the test data\n",
    "y_pred = model.predict(val_X)\n",
    "val_mae = mean_absolute_error(y_pred, val_y)\n",
    "print(\"Validation MAE: {:,.0f}\".format(val_mae))\n",
    "lr = model.score(val_X,val_y)\n",
    "print(\"Score : \",lr)"
   ]
  },
  {
   "cell_type": "code",
   "execution_count": 22,
   "id": "181ad553",
   "metadata": {
    "execution": {
     "iopub.execute_input": "2022-12-29T23:03:58.879193Z",
     "iopub.status.busy": "2022-12-29T23:03:58.878781Z",
     "iopub.status.idle": "2022-12-29T23:03:58.889260Z",
     "shell.execute_reply": "2022-12-29T23:03:58.888634Z"
    },
    "papermill": {
     "duration": 0.025662,
     "end_time": "2022-12-29T23:03:58.890847",
     "exception": false,
     "start_time": "2022-12-29T23:03:58.865185",
     "status": "completed"
    },
    "tags": []
   },
   "outputs": [
    {
     "data": {
      "text/html": [
       "<div>\n",
       "<style scoped>\n",
       "    .dataframe tbody tr th:only-of-type {\n",
       "        vertical-align: middle;\n",
       "    }\n",
       "\n",
       "    .dataframe tbody tr th {\n",
       "        vertical-align: top;\n",
       "    }\n",
       "\n",
       "    .dataframe thead th {\n",
       "        text-align: right;\n",
       "    }\n",
       "</style>\n",
       "<table border=\"1\" class=\"dataframe\">\n",
       "  <thead>\n",
       "    <tr style=\"text-align: right;\">\n",
       "      <th></th>\n",
       "      <th>0_x</th>\n",
       "      <th>0_y</th>\n",
       "    </tr>\n",
       "  </thead>\n",
       "  <tbody>\n",
       "    <tr>\n",
       "      <th>0</th>\n",
       "      <td>18</td>\n",
       "      <td>1.979818</td>\n",
       "    </tr>\n",
       "    <tr>\n",
       "      <th>1</th>\n",
       "      <td>34</td>\n",
       "      <td>44.317877</td>\n",
       "    </tr>\n",
       "    <tr>\n",
       "      <th>2</th>\n",
       "      <td>0</td>\n",
       "      <td>3.414435</td>\n",
       "    </tr>\n",
       "    <tr>\n",
       "      <th>3</th>\n",
       "      <td>2</td>\n",
       "      <td>210.588548</td>\n",
       "    </tr>\n",
       "    <tr>\n",
       "      <th>4</th>\n",
       "      <td>0</td>\n",
       "      <td>4.259729</td>\n",
       "    </tr>\n",
       "    <tr>\n",
       "      <th>...</th>\n",
       "      <td>...</td>\n",
       "      <td>...</td>\n",
       "    </tr>\n",
       "    <tr>\n",
       "      <th>1414</th>\n",
       "      <td>1</td>\n",
       "      <td>5.105023</td>\n",
       "    </tr>\n",
       "    <tr>\n",
       "      <th>1415</th>\n",
       "      <td>4</td>\n",
       "      <td>2.780464</td>\n",
       "    </tr>\n",
       "    <tr>\n",
       "      <th>1416</th>\n",
       "      <td>6</td>\n",
       "      <td>51.768752</td>\n",
       "    </tr>\n",
       "    <tr>\n",
       "      <th>1417</th>\n",
       "      <td>2</td>\n",
       "      <td>3.414435</td>\n",
       "    </tr>\n",
       "    <tr>\n",
       "      <th>1418</th>\n",
       "      <td>18</td>\n",
       "      <td>1.979818</td>\n",
       "    </tr>\n",
       "  </tbody>\n",
       "</table>\n",
       "<p>1419 rows × 2 columns</p>\n",
       "</div>"
      ],
      "text/plain": [
       "      0_x         0_y\n",
       "0      18    1.979818\n",
       "1      34   44.317877\n",
       "2       0    3.414435\n",
       "3       2  210.588548\n",
       "4       0    4.259729\n",
       "...   ...         ...\n",
       "1414    1    5.105023\n",
       "1415    4    2.780464\n",
       "1416    6   51.768752\n",
       "1417    2    3.414435\n",
       "1418   18    1.979818\n",
       "\n",
       "[1419 rows x 2 columns]"
      ]
     },
     "execution_count": 22,
     "metadata": {},
     "output_type": "execute_result"
    }
   ],
   "source": [
    "df = pd.merge(pd.DataFrame(np.array(val_y)),pd.DataFrame(np.array(y_pred)), right_index = True,\n",
    "               left_index = True)\n",
    "df"
   ]
  },
  {
   "cell_type": "code",
   "execution_count": 23,
   "id": "7bdf2692",
   "metadata": {
    "execution": {
     "iopub.execute_input": "2022-12-29T23:03:58.918114Z",
     "iopub.status.busy": "2022-12-29T23:03:58.917702Z",
     "iopub.status.idle": "2022-12-29T23:03:59.155945Z",
     "shell.execute_reply": "2022-12-29T23:03:59.155134Z"
    },
    "papermill": {
     "duration": 0.253922,
     "end_time": "2022-12-29T23:03:59.157762",
     "exception": false,
     "start_time": "2022-12-29T23:03:58.903840",
     "status": "completed"
    },
    "tags": []
   },
   "outputs": [
    {
     "data": {
      "text/plain": [
       "<AxesSubplot:>"
      ]
     },
     "execution_count": 23,
     "metadata": {},
     "output_type": "execute_result"
    },
    {
     "data": {
      "image/png": "[encoded data removed]",
      "text/plain": [
       "<Figure size 432x288 with 1 Axes>"
      ]
     },
     "metadata": {
      "needs_background": "light"
     },
     "output_type": "display_data"
    }
   ],
   "source": [
    "sns.lineplot(data=df)"
   ]
  },
  {
   "cell_type": "code",
   "execution_count": 24,
   "id": "e95cb049",
   "metadata": {
    "execution": {
     "iopub.execute_input": "2022-12-29T23:03:59.185465Z",
     "iopub.status.busy": "2022-12-29T23:03:59.185208Z",
     "iopub.status.idle": "2022-12-29T23:03:59.347288Z",
     "shell.execute_reply": "2022-12-29T23:03:59.346221Z"
    },
    "papermill": {
     "duration": 0.178068,
     "end_time": "2022-12-29T23:03:59.349276",
     "exception": false,
     "start_time": "2022-12-29T23:03:59.171208",
     "status": "completed"
    },
    "tags": []
   },
   "outputs": [
    {
     "data": {
      "text/plain": [
       "<AxesSubplot:ylabel='Density'>"
      ]
     },
     "execution_count": 24,
     "metadata": {},
     "output_type": "execute_result"
    },
    {
     "data": {
      "image/png": "[encoded data removed]",
      "text/plain": [
       "<Figure size 432x288 with 1 Axes>"
      ]
     },
     "metadata": {
      "needs_background": "light"
     },
     "output_type": "display_data"
    }
   ],
   "source": [
    "sns.kdeplot(data=df, shade=False)"
   ]
  },
  {
   "cell_type": "code",
   "execution_count": 25,
   "id": "f9addfd0",
   "metadata": {
    "execution": {
     "iopub.execute_input": "2022-12-29T23:03:59.379122Z",
     "iopub.status.busy": "2022-12-29T23:03:59.378282Z",
     "iopub.status.idle": "2022-12-29T23:03:59.651665Z",
     "shell.execute_reply": "2022-12-29T23:03:59.651015Z"
    },
    "papermill": {
     "duration": 0.289743,
     "end_time": "2022-12-29T23:03:59.653310",
     "exception": false,
     "start_time": "2022-12-29T23:03:59.363567",
     "status": "completed"
    },
    "tags": []
   },
   "outputs": [
    {
     "data": {
      "text/plain": [
       "<AxesSubplot:xlabel='0_x', ylabel='0_y'>"
      ]
     },
     "execution_count": 25,
     "metadata": {},
     "output_type": "execute_result"
    },
    {
     "data": {
      "image/png": "[encoded data removed]",
      "text/plain": [
       "<Figure size 432x288 with 1 Axes>"
      ]
     },
     "metadata": {
      "needs_background": "light"
     },
     "output_type": "display_data"
    }
   ],
   "source": [
    "k = [x for x in range(len(df))]\n",
    "sns.regplot(x=df['0_x'], y=df['0_y'])"
   ]
  },
  {
   "cell_type": "markdown",
   "id": "47957ac1",
   "metadata": {
    "papermill": {
     "duration": 0.013536,
     "end_time": "2022-12-29T23:03:59.681341",
     "exception": false,
     "start_time": "2022-12-29T23:03:59.667805",
     "status": "completed"
    },
    "tags": []
   },
   "source": [
    "# **Decision Tree Regressor**"
   ]
  },
  {
   "cell_type": "code",
   "execution_count": 26,
   "id": "1093ef53",
   "metadata": {
    "execution": {
     "iopub.execute_input": "2022-12-29T23:03:59.710074Z",
     "iopub.status.busy": "2022-12-29T23:03:59.709817Z",
     "iopub.status.idle": "2022-12-29T23:03:59.723289Z",
     "shell.execute_reply": "2022-12-29T23:03:59.722124Z"
    },
    "papermill": {
     "duration": 0.030277,
     "end_time": "2022-12-29T23:03:59.725433",
     "exception": false,
     "start_time": "2022-12-29T23:03:59.695156",
     "status": "completed"
    },
    "tags": []
   },
   "outputs": [
    {
     "name": "stdout",
     "output_type": "stream",
     "text": [
      "Validation MAE: 2\n",
      "Score :  0.9995525904807594\n"
     ]
    }
   ],
   "source": [
    "from sklearn.tree import DecisionTreeRegressor \n",
    "\n",
    "model = DecisionTreeRegressor() \n",
    "\n",
    "# Fit the model to the training data\n",
    "train_X, train_y = X,y\n",
    "model.fit(train_X, train_y)\n",
    "\n",
    "# Make predictions on the test data\n",
    "y_pred = model.predict(val_X)\n",
    "val_mae = mean_absolute_error(y_pred, val_y)\n",
    "print(\"Validation MAE: {:,.0f}\".format(val_mae))\n",
    "dtr = model.score(val_X,val_y)\n",
    "print(\"Score : \",dtr)"
   ]
  },
  {
   "cell_type": "code",
   "execution_count": 27,
   "id": "9b4e0ab5",
   "metadata": {
    "execution": {
     "iopub.execute_input": "2022-12-29T23:03:59.755021Z",
     "iopub.status.busy": "2022-12-29T23:03:59.754462Z",
     "iopub.status.idle": "2022-12-29T23:03:59.765146Z",
     "shell.execute_reply": "2022-12-29T23:03:59.764303Z"
    },
    "papermill": {
     "duration": 0.026895,
     "end_time": "2022-12-29T23:03:59.766717",
     "exception": false,
     "start_time": "2022-12-29T23:03:59.739822",
     "status": "completed"
    },
    "tags": []
   },
   "outputs": [
    {
     "data": {
      "text/html": [
       "<div>\n",
       "<style scoped>\n",
       "    .dataframe tbody tr th:only-of-type {\n",
       "        vertical-align: middle;\n",
       "    }\n",
       "\n",
       "    .dataframe tbody tr th {\n",
       "        vertical-align: top;\n",
       "    }\n",
       "\n",
       "    .dataframe thead th {\n",
       "        text-align: right;\n",
       "    }\n",
       "</style>\n",
       "<table border=\"1\" class=\"dataframe\">\n",
       "  <thead>\n",
       "    <tr style=\"text-align: right;\">\n",
       "      <th></th>\n",
       "      <th>0_x</th>\n",
       "      <th>0_y</th>\n",
       "    </tr>\n",
       "  </thead>\n",
       "  <tbody>\n",
       "    <tr>\n",
       "      <th>0</th>\n",
       "      <td>18</td>\n",
       "      <td>18.085973</td>\n",
       "    </tr>\n",
       "    <tr>\n",
       "      <th>1</th>\n",
       "      <td>34</td>\n",
       "      <td>24.500000</td>\n",
       "    </tr>\n",
       "    <tr>\n",
       "      <th>2</th>\n",
       "      <td>0</td>\n",
       "      <td>1.400000</td>\n",
       "    </tr>\n",
       "    <tr>\n",
       "      <th>3</th>\n",
       "      <td>2</td>\n",
       "      <td>2.000000</td>\n",
       "    </tr>\n",
       "    <tr>\n",
       "      <th>4</th>\n",
       "      <td>0</td>\n",
       "      <td>1.000000</td>\n",
       "    </tr>\n",
       "    <tr>\n",
       "      <th>...</th>\n",
       "      <td>...</td>\n",
       "      <td>...</td>\n",
       "    </tr>\n",
       "    <tr>\n",
       "      <th>1414</th>\n",
       "      <td>1</td>\n",
       "      <td>1.000000</td>\n",
       "    </tr>\n",
       "    <tr>\n",
       "      <th>1415</th>\n",
       "      <td>4</td>\n",
       "      <td>2.500000</td>\n",
       "    </tr>\n",
       "    <tr>\n",
       "      <th>1416</th>\n",
       "      <td>6</td>\n",
       "      <td>6.000000</td>\n",
       "    </tr>\n",
       "    <tr>\n",
       "      <th>1417</th>\n",
       "      <td>2</td>\n",
       "      <td>1.400000</td>\n",
       "    </tr>\n",
       "    <tr>\n",
       "      <th>1418</th>\n",
       "      <td>18</td>\n",
       "      <td>18.085973</td>\n",
       "    </tr>\n",
       "  </tbody>\n",
       "</table>\n",
       "<p>1419 rows × 2 columns</p>\n",
       "</div>"
      ],
      "text/plain": [
       "      0_x        0_y\n",
       "0      18  18.085973\n",
       "1      34  24.500000\n",
       "2       0   1.400000\n",
       "3       2   2.000000\n",
       "4       0   1.000000\n",
       "...   ...        ...\n",
       "1414    1   1.000000\n",
       "1415    4   2.500000\n",
       "1416    6   6.000000\n",
       "1417    2   1.400000\n",
       "1418   18  18.085973\n",
       "\n",
       "[1419 rows x 2 columns]"
      ]
     },
     "execution_count": 27,
     "metadata": {},
     "output_type": "execute_result"
    }
   ],
   "source": [
    "df = pd.merge(pd.DataFrame(np.array(val_y)),pd.DataFrame(np.array(y_pred)), right_index = True,\n",
    "               left_index = True)\n",
    "df"
   ]
  },
  {
   "cell_type": "code",
   "execution_count": 28,
   "id": "af481f8f",
   "metadata": {
    "execution": {
     "iopub.execute_input": "2022-12-29T23:03:59.795825Z",
     "iopub.status.busy": "2022-12-29T23:03:59.795564Z",
     "iopub.status.idle": "2022-12-29T23:04:00.037731Z",
     "shell.execute_reply": "2022-12-29T23:04:00.036890Z"
    },
    "papermill": {
     "duration": 0.258667,
     "end_time": "2022-12-29T23:04:00.039481",
     "exception": false,
     "start_time": "2022-12-29T23:03:59.780814",
     "status": "completed"
    },
    "tags": []
   },
   "outputs": [
    {
     "data": {
      "text/plain": [
       "<AxesSubplot:>"
      ]
     },
     "execution_count": 28,
     "metadata": {},
     "output_type": "execute_result"
    },
    {
     "data": {
      "image/png": "[encoded data removed]",
      "text/plain": [
       "<Figure size 432x288 with 1 Axes>"
      ]
     },
     "metadata": {
      "needs_background": "light"
     },
     "output_type": "display_data"
    }
   ],
   "source": [
    "sns.lineplot(data=df)"
   ]
  },
  {
   "cell_type": "code",
   "execution_count": 29,
   "id": "9ce84056",
   "metadata": {
    "execution": {
     "iopub.execute_input": "2022-12-29T23:04:00.071064Z",
     "iopub.status.busy": "2022-12-29T23:04:00.070554Z",
     "iopub.status.idle": "2022-12-29T23:04:00.337370Z",
     "shell.execute_reply": "2022-12-29T23:04:00.336505Z"
    },
    "papermill": {
     "duration": 0.284431,
     "end_time": "2022-12-29T23:04:00.339138",
     "exception": false,
     "start_time": "2022-12-29T23:04:00.054707",
     "status": "completed"
    },
    "tags": []
   },
   "outputs": [
    {
     "data": {
      "text/plain": [
       "<AxesSubplot:ylabel='Density'>"
      ]
     },
     "execution_count": 29,
     "metadata": {},
     "output_type": "execute_result"
    },
    {
     "data": {
      "image/png": "[encoded data removed]",
      "text/plain": [
       "<Figure size 432x288 with 1 Axes>"
      ]
     },
     "metadata": {
      "needs_background": "light"
     },
     "output_type": "display_data"
    }
   ],
   "source": [
    "sns.kdeplot(data=df, shade=False)"
   ]
  },
  {
   "cell_type": "code",
   "execution_count": 30,
   "id": "5c023939",
   "metadata": {
    "execution": {
     "iopub.execute_input": "2022-12-29T23:04:00.370631Z",
     "iopub.status.busy": "2022-12-29T23:04:00.370178Z",
     "iopub.status.idle": "2022-12-29T23:04:00.637383Z",
     "shell.execute_reply": "2022-12-29T23:04:00.636546Z"
    },
    "papermill": {
     "duration": 0.284624,
     "end_time": "2022-12-29T23:04:00.639169",
     "exception": false,
     "start_time": "2022-12-29T23:04:00.354545",
     "status": "completed"
    },
    "tags": []
   },
   "outputs": [
    {
     "data": {
      "text/plain": [
       "<AxesSubplot:xlabel='0_x', ylabel='0_y'>"
      ]
     },
     "execution_count": 30,
     "metadata": {},
     "output_type": "execute_result"
    },
    {
     "data": {
      "image/png": "[encoded data removed]",
      "text/plain": [
       "<Figure size 432x288 with 1 Axes>"
      ]
     },
     "metadata": {
      "needs_background": "light"
     },
     "output_type": "display_data"
    }
   ],
   "source": [
    "k = [x for x in range(len(df))]\n",
    "sns.regplot(x=df['0_x'], y=df['0_y'])"
   ]
  },
  {
   "cell_type": "markdown",
   "id": "e31e9f47",
   "metadata": {
    "papermill": {
     "duration": 0.016341,
     "end_time": "2022-12-29T23:04:00.671647",
     "exception": false,
     "start_time": "2022-12-29T23:04:00.655306",
     "status": "completed"
    },
    "tags": []
   },
   "source": [
    "# **K Neighbors Regressor**"
   ]
  },
  {
   "cell_type": "code",
   "execution_count": 31,
   "id": "ced6ece3",
   "metadata": {
    "execution": {
     "iopub.execute_input": "2022-12-29T23:04:00.702939Z",
     "iopub.status.busy": "2022-12-29T23:04:00.702692Z",
     "iopub.status.idle": "2022-12-29T23:04:00.745211Z",
     "shell.execute_reply": "2022-12-29T23:04:00.744115Z"
    },
    "papermill": {
     "duration": 0.060115,
     "end_time": "2022-12-29T23:04:00.746898",
     "exception": false,
     "start_time": "2022-12-29T23:04:00.686783",
     "status": "completed"
    },
    "tags": []
   },
   "outputs": [
    {
     "name": "stdout",
     "output_type": "stream",
     "text": [
      "Validation MAE: 15\n",
      "Score For Test Data : 0.7511777409994163\n"
     ]
    }
   ],
   "source": [
    "from sklearn.neighbors import KNeighborsRegressor\n",
    "\n",
    "# create KKNeighborsRegressor object with initial value of n =2\n",
    "model = KNeighborsRegressor(n_neighbors=2)\n",
    "\n",
    "# fit the regressor with x and y data\n",
    "train_X, train_y = X,y\n",
    "model.fit(train_X, train_y)\n",
    "\n",
    "# Make predictions on the test data\n",
    "y_pred = model.predict(val_X)\n",
    "val_mae = mean_absolute_error(y_pred, val_y)\n",
    "print(\"Validation MAE: {:,.0f}\".format(val_mae))\n",
    "print('Score For Test Data : {}'.format(model.score(val_X,val_y)))\n",
    "knn = model.score(val_X,val_y)"
   ]
  },
  {
   "cell_type": "code",
   "execution_count": 32,
   "id": "1fab3ef0",
   "metadata": {
    "execution": {
     "iopub.execute_input": "2022-12-29T23:04:00.778277Z",
     "iopub.status.busy": "2022-12-29T23:04:00.778026Z",
     "iopub.status.idle": "2022-12-29T23:04:00.789445Z",
     "shell.execute_reply": "2022-12-29T23:04:00.788732Z"
    },
    "papermill": {
     "duration": 0.028804,
     "end_time": "2022-12-29T23:04:00.790939",
     "exception": false,
     "start_time": "2022-12-29T23:04:00.762135",
     "status": "completed"
    },
    "tags": []
   },
   "outputs": [
    {
     "data": {
      "text/html": [
       "<div>\n",
       "<style scoped>\n",
       "    .dataframe tbody tr th:only-of-type {\n",
       "        vertical-align: middle;\n",
       "    }\n",
       "\n",
       "    .dataframe tbody tr th {\n",
       "        vertical-align: top;\n",
       "    }\n",
       "\n",
       "    .dataframe thead th {\n",
       "        text-align: right;\n",
       "    }\n",
       "</style>\n",
       "<table border=\"1\" class=\"dataframe\">\n",
       "  <thead>\n",
       "    <tr style=\"text-align: right;\">\n",
       "      <th></th>\n",
       "      <th>0_x</th>\n",
       "      <th>0_y</th>\n",
       "    </tr>\n",
       "  </thead>\n",
       "  <tbody>\n",
       "    <tr>\n",
       "      <th>0</th>\n",
       "      <td>18</td>\n",
       "      <td>18.0</td>\n",
       "    </tr>\n",
       "    <tr>\n",
       "      <th>1</th>\n",
       "      <td>34</td>\n",
       "      <td>24.5</td>\n",
       "    </tr>\n",
       "    <tr>\n",
       "      <th>2</th>\n",
       "      <td>0</td>\n",
       "      <td>1.0</td>\n",
       "    </tr>\n",
       "    <tr>\n",
       "      <th>3</th>\n",
       "      <td>2</td>\n",
       "      <td>1.0</td>\n",
       "    </tr>\n",
       "    <tr>\n",
       "      <th>4</th>\n",
       "      <td>0</td>\n",
       "      <td>1.0</td>\n",
       "    </tr>\n",
       "    <tr>\n",
       "      <th>...</th>\n",
       "      <td>...</td>\n",
       "      <td>...</td>\n",
       "    </tr>\n",
       "    <tr>\n",
       "      <th>1414</th>\n",
       "      <td>1</td>\n",
       "      <td>1.0</td>\n",
       "    </tr>\n",
       "    <tr>\n",
       "      <th>1415</th>\n",
       "      <td>4</td>\n",
       "      <td>4.0</td>\n",
       "    </tr>\n",
       "    <tr>\n",
       "      <th>1416</th>\n",
       "      <td>6</td>\n",
       "      <td>6.5</td>\n",
       "    </tr>\n",
       "    <tr>\n",
       "      <th>1417</th>\n",
       "      <td>2</td>\n",
       "      <td>1.0</td>\n",
       "    </tr>\n",
       "    <tr>\n",
       "      <th>1418</th>\n",
       "      <td>18</td>\n",
       "      <td>18.0</td>\n",
       "    </tr>\n",
       "  </tbody>\n",
       "</table>\n",
       "<p>1419 rows × 2 columns</p>\n",
       "</div>"
      ],
      "text/plain": [
       "      0_x   0_y\n",
       "0      18  18.0\n",
       "1      34  24.5\n",
       "2       0   1.0\n",
       "3       2   1.0\n",
       "4       0   1.0\n",
       "...   ...   ...\n",
       "1414    1   1.0\n",
       "1415    4   4.0\n",
       "1416    6   6.5\n",
       "1417    2   1.0\n",
       "1418   18  18.0\n",
       "\n",
       "[1419 rows x 2 columns]"
      ]
     },
     "execution_count": 32,
     "metadata": {},
     "output_type": "execute_result"
    }
   ],
   "source": [
    "df = pd.merge(pd.DataFrame(np.array(val_y)),pd.DataFrame(np.array(y_pred)), right_index = True,\n",
    "               left_index = True)\n",
    "df"
   ]
  },
  {
   "cell_type": "code",
   "execution_count": 33,
   "id": "a981feec",
   "metadata": {
    "execution": {
     "iopub.execute_input": "2022-12-29T23:04:00.822270Z",
     "iopub.status.busy": "2022-12-29T23:04:00.821916Z",
     "iopub.status.idle": "2022-12-29T23:04:01.059990Z",
     "shell.execute_reply": "2022-12-29T23:04:01.059155Z"
    },
    "papermill": {
     "duration": 0.255629,
     "end_time": "2022-12-29T23:04:01.061701",
     "exception": false,
     "start_time": "2022-12-29T23:04:00.806072",
     "status": "completed"
    },
    "tags": []
   },
   "outputs": [
    {
     "data": {
      "text/plain": [
       "<AxesSubplot:>"
      ]
     },
     "execution_count": 33,
     "metadata": {},
     "output_type": "execute_result"
    },
    {
     "data": {
      "image/png": "[encoded data removed]",
      "text/plain": [
       "<Figure size 432x288 with 1 Axes>"
      ]
     },
     "metadata": {
      "needs_background": "light"
     },
     "output_type": "display_data"
    }
   ],
   "source": [
    "sns.lineplot(data=df)"
   ]
  },
  {
   "cell_type": "code",
   "execution_count": 34,
   "id": "12a63c46",
   "metadata": {
    "execution": {
     "iopub.execute_input": "2022-12-29T23:04:01.094129Z",
     "iopub.status.busy": "2022-12-29T23:04:01.093852Z",
     "iopub.status.idle": "2022-12-29T23:04:01.273381Z",
     "shell.execute_reply": "2022-12-29T23:04:01.272805Z"
    },
    "papermill": {
     "duration": 0.197386,
     "end_time": "2022-12-29T23:04:01.274936",
     "exception": false,
     "start_time": "2022-12-29T23:04:01.077550",
     "status": "completed"
    },
    "tags": []
   },
   "outputs": [
    {
     "data": {
      "text/plain": [
       "<AxesSubplot:ylabel='Density'>"
      ]
     },
     "execution_count": 34,
     "metadata": {},
     "output_type": "execute_result"
    },
    {
     "data": {
      "image/png": "[encoded data removed]",
      "text/plain": [
       "<Figure size 432x288 with 1 Axes>"
      ]
     },
     "metadata": {
      "needs_background": "light"
     },
     "output_type": "display_data"
    }
   ],
   "source": [
    "sns.kdeplot(data=df, shade=False)"
   ]
  },
  {
   "cell_type": "code",
   "execution_count": 35,
   "id": "2d6aa27a",
   "metadata": {
    "execution": {
     "iopub.execute_input": "2022-12-29T23:04:01.308382Z",
     "iopub.status.busy": "2022-12-29T23:04:01.307989Z",
     "iopub.status.idle": "2022-12-29T23:04:01.590795Z",
     "shell.execute_reply": "2022-12-29T23:04:01.590103Z"
    },
    "papermill": {
     "duration": 0.30131,
     "end_time": "2022-12-29T23:04:01.592526",
     "exception": false,
     "start_time": "2022-12-29T23:04:01.291216",
     "status": "completed"
    },
    "tags": []
   },
   "outputs": [
    {
     "data": {
      "text/plain": [
       "<AxesSubplot:xlabel='0_x', ylabel='0_y'>"
      ]
     },
     "execution_count": 35,
     "metadata": {},
     "output_type": "execute_result"
    },
    {
     "data": {
      "image/png": "[encoded data removed]",
      "text/plain": [
       "<Figure size 432x288 with 1 Axes>"
      ]
     },
     "metadata": {
      "needs_background": "light"
     },
     "output_type": "display_data"
    }
   ],
   "source": [
    "k = [x for x in range(len(df))]\n",
    "sns.regplot(x=df['0_x'], y=df['0_y'])"
   ]
  },
  {
   "cell_type": "markdown",
   "id": "5f24d484",
   "metadata": {
    "papermill": {
     "duration": 0.015886,
     "end_time": "2022-12-29T23:04:01.625579",
     "exception": false,
     "start_time": "2022-12-29T23:04:01.609693",
     "status": "completed"
    },
    "tags": []
   },
   "source": [
    "> # **ALL SCORES OF MODELS**"
   ]
  },
  {
   "cell_type": "code",
   "execution_count": 36,
   "id": "714dea48",
   "metadata": {
    "execution": {
     "iopub.execute_input": "2022-12-29T23:04:01.658684Z",
     "iopub.status.busy": "2022-12-29T23:04:01.658254Z",
     "iopub.status.idle": "2022-12-29T23:04:01.662814Z",
     "shell.execute_reply": "2022-12-29T23:04:01.661860Z"
    },
    "papermill": {
     "duration": 0.023748,
     "end_time": "2022-12-29T23:04:01.665225",
     "exception": false,
     "start_time": "2022-12-29T23:04:01.641477",
     "status": "completed"
    },
    "tags": []
   },
   "outputs": [
    {
     "name": "stdout",
     "output_type": "stream",
     "text": [
      " Linear Regression\t\t 0.004833754611991425 \n",
      " *Decision Tree Regression\t 0.9995525904807594 \n",
      " Random Forest Regression\t 0.8472855385198642 \n",
      " KNeighborsRegressor\t\t 0.7511777409994163 \n",
      " XGBoost Regression\t\t 0.9994739035418877\n"
     ]
    }
   ],
   "source": [
    "print(\" Linear Regression\\t\\t\",lr,\"\\n\",\n",
    "      '*Decision Tree Regression\\t',dtr,\"\\n\",\n",
    "      'Random Forest Regression\\t',rfr,\"\\n\",\n",
    "      'KNeighborsRegressor\\t\\t',knn,\"\\n\",\n",
    "      'XGBoost Regression\\t\\t',xg)"
   ]
  },
  {
   "cell_type": "markdown",
   "id": "dff0c185",
   "metadata": {
    "papermill": {
     "duration": 0.015944,
     "end_time": "2022-12-29T23:04:01.698669",
     "exception": false,
     "start_time": "2022-12-29T23:04:01.682725",
     "status": "completed"
    },
    "tags": []
   },
   "source": [
    "*Decision Tree Regression is the best*"
   ]
  },
  {
   "cell_type": "code",
   "execution_count": null,
   "id": "24ba842a",
   "metadata": {
    "papermill": {
     "duration": 0.015681,
     "end_time": "2022-12-29T23:04:01.730218",
     "exception": false,
     "start_time": "2022-12-29T23:04:01.714537",
     "status": "completed"
    },
    "tags": []
   },
   "outputs": [],
   "source": []
  }
 ],
 "metadata": {
  "kernelspec": {
   "display_name": "Python 3",
   "language": "python",
   "name": "python3"
  },
  "language_info": {
   "codemirror_mode": {
    "name": "ipython",
    "version": 3
   },
   "file_extension": ".py",
   "mimetype": "text/x-python",
   "name": "python",
   "nbconvert_exporter": "python",
   "pygments_lexer": "ipython3",
   "version": "3.7.12"
  },
  "papermill": {
   "default_parameters": {},
   "duration": 18.627167,
   "end_time": "2022-12-29T23:04:02.364113",
   "environment_variables": {},
   "exception": null,
   "input_path": "__notebook__.ipynb",
   "output_path": "__notebook__.ipynb",
   "parameters": {},
   "start_time": "2022-12-29T23:03:43.736946",
   "version": "2.3.4"
  }
 },
 "nbformat": 4,
 "nbformat_minor": 5
}
